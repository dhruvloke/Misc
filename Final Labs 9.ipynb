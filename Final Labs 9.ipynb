{
 "cells": [
  {
   "cell_type": "code",
   "execution_count": 1,
   "metadata": {},
   "outputs": [
    {
     "name": "stdout",
     "output_type": "stream",
     "text": [
      "The number grade is 90\n",
      "The letter grade is B\n"
     ]
    }
   ],
   "source": [
    "grade = int(input(\"The number grade is \"))\n",
    "letGrade = \"\"\n",
    "if(grade >=95):\n",
    "    letGrade = \"A\"\n",
    "elif(grade >= 87):\n",
    "    letGrade = \"B\"\n",
    "elif(grade >= 75):\n",
    "    letGrade = \"C\"\n",
    "elif(grade >= 70):\n",
    "    letGrade = \"D\"\n",
    "else:\n",
    "    letGrade = \"F\"\n",
    "print(\"The letter grade is \" + letGrade)"
   ]
  },
  {
   "cell_type": "code",
   "execution_count": null,
   "metadata": {},
   "outputs": [],
   "source": []
  }
 ],
 "metadata": {
  "kernelspec": {
   "display_name": "Python 3",
   "language": "python",
   "name": "python3"
  },
  "language_info": {
   "codemirror_mode": {
    "name": "ipython",
    "version": 3
   },
   "file_extension": ".py",
   "mimetype": "text/x-python",
   "name": "python",
   "nbconvert_exporter": "python",
   "pygments_lexer": "ipython3",
   "version": "3.7.3"
  }
 },
 "nbformat": 4,
 "nbformat_minor": 2
}
