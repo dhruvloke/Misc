{
 "cells": [
  {
   "cell_type": "code",
   "execution_count": null,
   "metadata": {},
   "outputs": [],
   "source": [
    "import array\n",
    "word = \" \"\n",
    "while(word != \"\"):\n",
    "    arrStr = []\n",
    "    word = str(input(\"Enter a word \"))\n",
    "    for i in range(0,len(word)):\n",
    "        tempWord = word[i:i+1]\n",
    "        if(tempWord.isupper() == True):\n",
    "            arrStr.append(tempWord)\n",
    "    strCap = \"\".join((str(e) + \",\")for e in arrStr)\n",
    "    strCap = strCap[:-1]\n",
    "    print(\"The capital letters in \" + word + \" are \" + strCap)    "
   ]
  },
  {
   "cell_type": "code",
   "execution_count": null,
   "metadata": {},
   "outputs": [],
   "source": []
  }
 ],
 "metadata": {
  "kernelspec": {
   "display_name": "Python 3",
   "language": "python",
   "name": "python3"
  },
  "language_info": {
   "codemirror_mode": {
    "name": "ipython",
    "version": 3
   },
   "file_extension": ".py",
   "mimetype": "text/x-python",
   "name": "python",
   "nbconvert_exporter": "python",
   "pygments_lexer": "ipython3",
   "version": "3.7.3"
  }
 },
 "nbformat": 4,
 "nbformat_minor": 2
}
