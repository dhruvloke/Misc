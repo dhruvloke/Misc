{
 "cells": [
  {
   "cell_type": "code",
   "execution_count": 1,
   "metadata": {},
   "outputs": [
    {
     "name": "stdout",
     "output_type": "stream",
     "text": [
      "Enter the length of a rectangle: 8\n",
      "Enter the width of a rectangle: 5\n",
      "The area of the rectangle is 40 square units\n"
     ]
    }
   ],
   "source": [
    "length = int(input(\"Enter the length of a rectangle: \"))\n",
    "width = int(input(\"Enter the width of a rectangle: \"))\n",
    "area = length * width\n",
    "areaStr = str(area)\n",
    "print(\"The area of the rectangle is \" + areaStr + \" square units\" )"
   ]
  },
  {
   "cell_type": "code",
   "execution_count": null,
   "metadata": {},
   "outputs": [],
   "source": []
  }
 ],
 "metadata": {
  "kernelspec": {
   "display_name": "Python 3",
   "language": "python",
   "name": "python3"
  },
  "language_info": {
   "codemirror_mode": {
    "name": "ipython",
    "version": 3
   },
   "file_extension": ".py",
   "mimetype": "text/x-python",
   "name": "python",
   "nbconvert_exporter": "python",
   "pygments_lexer": "ipython3",
   "version": "3.7.3"
  }
 },
 "nbformat": 4,
 "nbformat_minor": 2
}
