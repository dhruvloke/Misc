{
 "cells": [
  {
   "cell_type": "code",
   "execution_count": 6,
   "metadata": {},
   "outputs": [
    {
     "name": "stdout",
     "output_type": "stream",
     "text": [
      "Enter a number 18\n",
      "10010\n",
      "Enter a number 0\n",
      "\n"
     ]
    }
   ],
   "source": [
    "import math\n",
    "import array\n",
    "def base2():\n",
    "    num = -1\n",
    "    num1 = -1\n",
    "    num2 = -1\n",
    "    while(num != 0):\n",
    "        num = int(input(\"Enter a number \"))\n",
    "        arrT = []\n",
    "        num1 = num\n",
    "        checkLog = 0\n",
    "        while(num1 != 0):\n",
    "            num3 = num1\n",
    "            checkLog2 = checkLog\n",
    "            while(math.log(num1,2).is_integer() == False):\n",
    "                num1 = num1 -1\n",
    "            checkLog = math.log(num1,2)\n",
    "            for i in range(0,int(checkLog2-checkLog) -1):\n",
    "                arrT.append(\"0\")\n",
    "            arrT.append(\"1\")\n",
    "            num2 = num1\n",
    "            num1 = num3 - num1\n",
    "            if(num1 == 0):\n",
    "                for i in range(0,int(math.log(num2,2))):\n",
    "                    arrT.append(\"0\")   \n",
    "        romNum = \"\"\n",
    "        for i in range(0,len(arrT)):\n",
    "            romNum = romNum + \"\" + arrT[i]\n",
    "        print(romNum)\n",
    "base2()"
   ]
  },
  {
   "cell_type": "code",
   "execution_count": null,
   "metadata": {},
   "outputs": [],
   "source": []
  }
 ],
 "metadata": {
  "kernelspec": {
   "display_name": "Python 3",
   "language": "python",
   "name": "python3"
  },
  "language_info": {
   "codemirror_mode": {
    "name": "ipython",
    "version": 3
   },
   "file_extension": ".py",
   "mimetype": "text/x-python",
   "name": "python",
   "nbconvert_exporter": "python",
   "pygments_lexer": "ipython3",
   "version": "3.7.3"
  }
 },
 "nbformat": 4,
 "nbformat_minor": 2
}
