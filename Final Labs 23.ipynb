{
 "cells": [
  {
   "cell_type": "code",
   "execution_count": 1,
   "metadata": {},
   "outputs": [
    {
     "name": "stdout",
     "output_type": "stream",
     "text": [
      "Enter a message Hello World\n",
      "Llpss'[vvsh\n",
      "Enter a message \n",
      "\n"
     ]
    }
   ],
   "source": [
    "def encrypt():\n",
    "    enc = \" \"\n",
    "    while(enc != \"\"):\n",
    "        enc = input(\"Enter a message \")\n",
    "        dec = \"\"\n",
    "        for i in range(0,len(enc)):\n",
    "            temp = ord(enc[i:i+1])\n",
    "            if(i % 2 == 0):\n",
    "                temp = temp + 4\n",
    "                dec = dec + str(chr(temp))\n",
    "            else:\n",
    "                temp = temp + 7\n",
    "                dec = dec + str(chr(temp))\n",
    "        print(dec)\n",
    "encrypt()"
   ]
  },
  {
   "cell_type": "code",
   "execution_count": null,
   "metadata": {},
   "outputs": [],
   "source": []
  }
 ],
 "metadata": {
  "kernelspec": {
   "display_name": "Python 3",
   "language": "python",
   "name": "python3"
  },
  "language_info": {
   "codemirror_mode": {
    "name": "ipython",
    "version": 3
   },
   "file_extension": ".py",
   "mimetype": "text/x-python",
   "name": "python",
   "nbconvert_exporter": "python",
   "pygments_lexer": "ipython3",
   "version": "3.7.3"
  }
 },
 "nbformat": 4,
 "nbformat_minor": 2
}
