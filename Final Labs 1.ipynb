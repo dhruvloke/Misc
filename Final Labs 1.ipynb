{
 "cells": [
  {
   "cell_type": "code",
   "execution_count": null,
   "metadata": {},
   "outputs": [],
   "source": [
    "print(\"My name is Dhruv Loke\")\n",
    "print()\n",
    "print(\"1. English 3 Pre-AP\")\n",
    "print(\"2. Physics AP\")\n",
    "print(\"3. Comp Sci Principles AP\")\n",
    "print(\"4. Lunch\")\n",
    "print(\"5. Calculus BC AP\")\n",
    "print(\"6. Chemistry AP\")\n",
    "print(\"7. Computer Science Independent Study\")\n",
    "print(\"8. Robotics\")"
   ]
  }
 ],
 "metadata": {
  "kernelspec": {
   "display_name": "Python 3",
   "language": "python",
   "name": "python3"
  },
  "language_info": {
   "codemirror_mode": {
    "name": "ipython",
    "version": 3
   },
   "file_extension": ".py",
   "mimetype": "text/x-python",
   "name": "python",
   "nbconvert_exporter": "python",
   "pygments_lexer": "ipython3",
   "version": "3.7.3"
  }
 },
 "nbformat": 4,
 "nbformat_minor": 2
}
