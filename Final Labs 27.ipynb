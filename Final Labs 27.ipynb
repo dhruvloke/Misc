{
 "cells": [
  {
   "cell_type": "code",
   "execution_count": 3,
   "metadata": {},
   "outputs": [
    {
     "name": "stdout",
     "output_type": "stream",
     "text": [
      "5\n",
      "7\n"
     ]
    }
   ],
   "source": [
    "import array\n",
    "def countEvens(array):\n",
    "    countEv = 0\n",
    "    for i in range(0,len(array)):\n",
    "        if(array[i] % 2 == 0):\n",
    "            countEv = countEv + 1\n",
    "    print(str(countEv))\n",
    "one = [12,3,6,8,14,12,1]\n",
    "two = [1,2,8,4,9,6,6,8,2]\n",
    "countEvens(one)\n",
    "countEvens(two)"
   ]
  },
  {
   "cell_type": "code",
   "execution_count": null,
   "metadata": {},
   "outputs": [],
   "source": []
  }
 ],
 "metadata": {
  "kernelspec": {
   "display_name": "Python 3",
   "language": "python",
   "name": "python3"
  },
  "language_info": {
   "codemirror_mode": {
    "name": "ipython",
    "version": 3
   },
   "file_extension": ".py",
   "mimetype": "text/x-python",
   "name": "python",
   "nbconvert_exporter": "python",
   "pygments_lexer": "ipython3",
   "version": "3.7.3"
  }
 },
 "nbformat": 4,
 "nbformat_minor": 2
}
