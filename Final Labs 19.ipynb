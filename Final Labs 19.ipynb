{
 "cells": [
  {
   "cell_type": "code",
   "execution_count": 1,
   "metadata": {},
   "outputs": [
    {
     "name": "stdout",
     "output_type": "stream",
     "text": [
      "Enter a number 6\n",
      "6 is a perfect number\n",
      "Enter a number 20\n",
      "20 is not a perfect number\n",
      "Enter a number 0\n",
      "0 is a perfect number\n"
     ]
    }
   ],
   "source": [
    "import array\n",
    "def sumNums(arr):\n",
    "    sum1 = 0\n",
    "    for i in range(0,len(arr)):\n",
    "        sum1 = sum1 + arr[i]\n",
    "    #print(str(sum1))\n",
    "def perfectNum(num):\n",
    "        arrFact = []\n",
    "        for i in range(1,num):\n",
    "            if(num % i == 0):\n",
    "                arrFact.append(i)\n",
    "        sum1 = 0\n",
    "        for i in range(0,len(arrFact)):\n",
    "            sum1 = sum1 + arrFact[i]\n",
    "        if(sum1 == num):\n",
    "            print(str(num) + \" is a perfect number\")\n",
    "        else:\n",
    "            print(str(num) + \" is not a perfect number\")\n",
    "num = -1\n",
    "while(num != 0):\n",
    "    num = int(input(\"Enter a number \"))\n",
    "    perfectNum(num)"
   ]
  },
  {
   "cell_type": "code",
   "execution_count": null,
   "metadata": {},
   "outputs": [],
   "source": []
  }
 ],
 "metadata": {
  "kernelspec": {
   "display_name": "Python 3",
   "language": "python",
   "name": "python3"
  },
  "language_info": {
   "codemirror_mode": {
    "name": "ipython",
    "version": 3
   },
   "file_extension": ".py",
   "mimetype": "text/x-python",
   "name": "python",
   "nbconvert_exporter": "python",
   "pygments_lexer": "ipython3",
   "version": "3.7.3"
  }
 },
 "nbformat": 4,
 "nbformat_minor": 2
}
