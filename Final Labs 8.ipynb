{
 "cells": [
  {
   "cell_type": "code",
   "execution_count": 1,
   "metadata": {},
   "outputs": [
    {
     "name": "stdout",
     "output_type": "stream",
     "text": [
      "Enter the value for x1: 10\n",
      "Enter the value for y1: 10\n",
      "Enter the value for x2: 5\n",
      "Enter the value for y2: 0\n",
      "The slope of the line is 2.0\n"
     ]
    }
   ],
   "source": [
    "x1 = int(input(\"Enter the value for x1: \"))\n",
    "y1 = int(input(\"Enter the value for y1: \"))\n",
    "x2 = int(input(\"Enter the value for x2: \"))\n",
    "y2 = int(input(\"Enter the value for y2: \"))\n",
    "slopeStr = str((y2-y1)/(x2-x1))\n",
    "print(\"The slope of the line is \" + slopeStr)"
   ]
  },
  {
   "cell_type": "code",
   "execution_count": null,
   "metadata": {},
   "outputs": [],
   "source": []
  }
 ],
 "metadata": {
  "kernelspec": {
   "display_name": "Python 3",
   "language": "python",
   "name": "python3"
  },
  "language_info": {
   "codemirror_mode": {
    "name": "ipython",
    "version": 3
   },
   "file_extension": ".py",
   "mimetype": "text/x-python",
   "name": "python",
   "nbconvert_exporter": "python",
   "pygments_lexer": "ipython3",
   "version": "3.7.3"
  }
 },
 "nbformat": 4,
 "nbformat_minor": 2
}
