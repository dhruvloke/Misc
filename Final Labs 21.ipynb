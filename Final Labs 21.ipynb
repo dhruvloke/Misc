{
 "cells": [
  {
   "cell_type": "code",
   "execution_count": 11,
   "metadata": {},
   "outputs": [
    {
     "name": "stdout",
     "output_type": "stream",
     "text": [
      "Enter a number 12456\n",
      "4.0\n",
      "mfact is 3\n",
      "4096\n",
      "168\n",
      "2.0\n",
      "mfact is 2\n",
      "64\n",
      "40\n",
      "1.0\n",
      "mfact is 5\n",
      "8\n",
      "0\n",
      "['3', '0', '2', '5', '0']\n",
      "30250\n",
      "Enter a number 0\n",
      "[]\n",
      "\n"
     ]
    }
   ],
   "source": [
    "import math\n",
    "import array\n",
    "def base8():\n",
    "    num = -1\n",
    "    num1 = -1\n",
    "    num2 = -1\n",
    "    while(num != 0):\n",
    "        num = int(input(\"Enter a number \"))\n",
    "        arrT = []\n",
    "        num1 = num\n",
    "        checkLog = 0\n",
    "        while(num1 != 0):\n",
    "            num3 = num1\n",
    "            checkLog2 = checkLog\n",
    "            while(math.log(num1,8).is_integer() == False):\n",
    "                num1 = num1 -1\n",
    "            print(str(math.log(num1,8)))\n",
    "            checkLog = math.log(num1,8)\n",
    "            for i in range(0,int(checkLog2-checkLog) -1):\n",
    "                arrT.append(\"0\")\n",
    "            mfact = math.floor(num3/num1)\n",
    "            print(\"mfact is \" + str(mfact))\n",
    "            arrT.append(str(mfact))\n",
    "            num2 = num1\n",
    "            print(str(num1))\n",
    "            num1 = num3 - (mfact * num1)\n",
    "            print(str(num1))\n",
    "            if(num1 == 0):\n",
    "                for i in range(0,int(math.log(num2,8))):\n",
    "                    arrT.append(\"0\")   \n",
    "        print(arrT)\n",
    "        romNum = \"\"\n",
    "        for i in range(0,len(arrT)):\n",
    "            romNum = romNum + \"\" + arrT[i]\n",
    "        print(romNum)\n",
    "base8()"
   ]
  },
  {
   "cell_type": "code",
   "execution_count": null,
   "metadata": {},
   "outputs": [],
   "source": []
  }
 ],
 "metadata": {
  "kernelspec": {
   "display_name": "Python 3",
   "language": "python",
   "name": "python3"
  },
  "language_info": {
   "codemirror_mode": {
    "name": "ipython",
    "version": 3
   },
   "file_extension": ".py",
   "mimetype": "text/x-python",
   "name": "python",
   "nbconvert_exporter": "python",
   "pygments_lexer": "ipython3",
   "version": "3.7.3"
  }
 },
 "nbformat": 4,
 "nbformat_minor": 2
}
