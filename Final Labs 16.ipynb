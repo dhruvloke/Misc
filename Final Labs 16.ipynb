{
 "cells": [
  {
   "cell_type": "code",
   "execution_count": 1,
   "metadata": {},
   "outputs": [
    {
     "name": "stdout",
     "output_type": "stream",
     "text": [
      "Enter a word hello\n",
      "The vowels of hello are e,o\n",
      "Enter a word catalog\n",
      "The vowels of catalog are a,a,o\n",
      "Enter a word computer\n",
      "The vowels of computer are o,u,e\n",
      "Enter a word \n",
      "The vowels of  are \n"
     ]
    }
   ],
   "source": [
    "import array\n",
    "word = \" \"\n",
    "arrStr = []\n",
    "while(word != \"\"):\n",
    "    word = str(input(\"Enter a word \"))\n",
    "    arrStr = []\n",
    "    for i in range(0,len(word)):\n",
    "        #print(i)\n",
    "        if(word[i:i+1] == 'a'):\n",
    "            arrStr.append(word[i:i+1])\n",
    "        if(word[i:i+1] == 'e'):\n",
    "            arrStr.append(word[i:i+1])\n",
    "        if(word[i:i+1] == 'i'):\n",
    "            arrStr.append(word[i:i+1])\n",
    "        if(word[i:i+1] == 'o'):\n",
    "            arrStr.append(word[i:i+1])\n",
    "        if(word[i:i+1] == 'u'):\n",
    "            arrStr.append(word[i:i+1])\n",
    "    strVow = \"\".join((str(e) + \",\")for e in arrStr)\n",
    "    strVow = strVow[:-1]\n",
    "    print(\"The vowels of \" + word + \" are \" + strVow)"
   ]
  },
  {
   "cell_type": "code",
   "execution_count": null,
   "metadata": {},
   "outputs": [],
   "source": []
  }
 ],
 "metadata": {
  "kernelspec": {
   "display_name": "Python 3",
   "language": "python",
   "name": "python3"
  },
  "language_info": {
   "codemirror_mode": {
    "name": "ipython",
    "version": 3
   },
   "file_extension": ".py",
   "mimetype": "text/x-python",
   "name": "python",
   "nbconvert_exporter": "python",
   "pygments_lexer": "ipython3",
   "version": "3.7.3"
  }
 },
 "nbformat": 4,
 "nbformat_minor": 2
}
