{
 "cells": [
  {
   "cell_type": "code",
   "execution_count": 1,
   "metadata": {},
   "outputs": [
    {
     "name": "stdout",
     "output_type": "stream",
     "text": [
      "Enter a number 8\n",
      "The factors of 8 are 1,2,4,8\n"
     ]
    }
   ],
   "source": [
    "import array\n",
    "num = int(input(\"Enter a number \"))\n",
    "arrFact = []\n",
    "for i in range(1,num + 1):\n",
    "    if(num % i == 0):\n",
    "        arrFact.append(i)\n",
    "strFact = \"\".join((str(e) + \",\")for e in arrFact)\n",
    "strFact = strFact[:-1]\n",
    "print(\"The factors of \" + str(num) + \" are \" + strFact)      \n",
    "    "
   ]
  },
  {
   "cell_type": "code",
   "execution_count": null,
   "metadata": {},
   "outputs": [],
   "source": []
  }
 ],
 "metadata": {
  "kernelspec": {
   "display_name": "Python 3",
   "language": "python",
   "name": "python3"
  },
  "language_info": {
   "codemirror_mode": {
    "name": "ipython",
    "version": 3
   },
   "file_extension": ".py",
   "mimetype": "text/x-python",
   "name": "python",
   "nbconvert_exporter": "python",
   "pygments_lexer": "ipython3",
   "version": "3.7.3"
  }
 },
 "nbformat": 4,
 "nbformat_minor": 2
}
