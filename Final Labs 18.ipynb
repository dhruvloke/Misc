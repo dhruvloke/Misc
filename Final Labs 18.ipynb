{
 "cells": [
  {
   "cell_type": "code",
   "execution_count": 4,
   "metadata": {},
   "outputs": [
    {
     "name": "stdout",
     "output_type": "stream",
     "text": [
      "Enter a number 12\n",
      "12 is not a prime number\n",
      "Enter a number 7\n",
      "7 is a prime number\n",
      "Enter a number 2\n",
      "2 is a prime number\n",
      "Enter a number 3\n",
      "3 is a prime number\n",
      "Enter a number 19\n",
      "19 is a prime number\n",
      "Enter a number 22\n",
      "22 is not a prime number\n",
      "Enter a number 0\n",
      "0 is a prime number\n"
     ]
    }
   ],
   "source": [
    "import array\n",
    "def isPrime(num1):\n",
    "    arrFact = []\n",
    "    isPrime = True\n",
    "    for i in range(2,num1-1):\n",
    "        if(num1 % i == 0):\n",
    "            isPrime = False\n",
    "    if(isPrime == True):\n",
    "        print(str(num1) + \" is a prime number\")\n",
    "    if(isPrime == False):\n",
    "        print(str(num1) + \" is not a prime number\")\n",
    "num1 = -1\n",
    "while(num1 != 0):\n",
    "    num1 = int(input(\"Enter a number \"))\n",
    "    isPrime(num1)\n"
   ]
  },
  {
   "cell_type": "code",
   "execution_count": null,
   "metadata": {},
   "outputs": [],
   "source": []
  }
 ],
 "metadata": {
  "kernelspec": {
   "display_name": "Python 3",
   "language": "python",
   "name": "python3"
  },
  "language_info": {
   "codemirror_mode": {
    "name": "ipython",
    "version": 3
   },
   "file_extension": ".py",
   "mimetype": "text/x-python",
   "name": "python",
   "nbconvert_exporter": "python",
   "pygments_lexer": "ipython3",
   "version": "3.7.3"
  }
 },
 "nbformat": 4,
 "nbformat_minor": 2
}
