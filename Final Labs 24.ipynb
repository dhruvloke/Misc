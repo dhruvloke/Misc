{
 "cells": [
  {
   "cell_type": "code",
   "execution_count": 1,
   "metadata": {},
   "outputs": [
    {
     "name": "stdout",
     "output_type": "stream",
     "text": [
      "Enter a message Llpss'[vvsh\n",
      "Hello World\n",
      "Enter a message \n",
      "\n"
     ]
    }
   ],
   "source": [
    "def decrypt():\n",
    "    dec = \" \"\n",
    "    while(dec != \"\"):\n",
    "        dec = input(\"Enter a message \")\n",
    "        enc = \"\"\n",
    "        for i in range(0,len(dec)):\n",
    "            temp = ord(dec[i:i+1])\n",
    "            if(i % 2 == 0):\n",
    "                temp = temp - 4\n",
    "                enc = enc + str(chr(temp))\n",
    "            else:\n",
    "                temp = temp - 7\n",
    "                enc = enc + str(chr(temp))\n",
    "        print(enc)\n",
    "decrypt()"
   ]
  },
  {
   "cell_type": "code",
   "execution_count": null,
   "metadata": {},
   "outputs": [],
   "source": []
  }
 ],
 "metadata": {
  "kernelspec": {
   "display_name": "Python 3",
   "language": "python",
   "name": "python3"
  },
  "language_info": {
   "codemirror_mode": {
    "name": "ipython",
    "version": 3
   },
   "file_extension": ".py",
   "mimetype": "text/x-python",
   "name": "python",
   "nbconvert_exporter": "python",
   "pygments_lexer": "ipython3",
   "version": "3.7.3"
  }
 },
 "nbformat": 4,
 "nbformat_minor": 2
}
