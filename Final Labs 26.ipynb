{
 "cells": [
  {
   "cell_type": "code",
   "execution_count": 5,
   "metadata": {},
   "outputs": [
    {
     "name": "stdout",
     "output_type": "stream",
     "text": [
      "The largest number is 14\n",
      "The largest number is 9\n"
     ]
    }
   ],
   "source": [
    "def findLargest(array):\n",
    "    max = array[0]\n",
    "    for i in range(0, len(array)):\n",
    "        if(array[i] > max):\n",
    "            max = array[i]\n",
    "    print(\"The largest number is \" + str(max))\n",
    "one = [12,3,6,8,14,12,1]\n",
    "two = [1,2,8,4,9,6,6,8,2]\n",
    "findLargest(one)\n",
    "findLargest(two)"
   ]
  },
  {
   "cell_type": "code",
   "execution_count": null,
   "metadata": {},
   "outputs": [],
   "source": []
  }
 ],
 "metadata": {
  "kernelspec": {
   "display_name": "Python 3",
   "language": "python",
   "name": "python3"
  },
  "language_info": {
   "codemirror_mode": {
    "name": "ipython",
    "version": 3
   },
   "file_extension": ".py",
   "mimetype": "text/x-python",
   "name": "python",
   "nbconvert_exporter": "python",
   "pygments_lexer": "ipython3",
   "version": "3.7.3"
  }
 },
 "nbformat": 4,
 "nbformat_minor": 2
}
