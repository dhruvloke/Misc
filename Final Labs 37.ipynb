{
 "cells": [
  {
   "cell_type": "code",
   "execution_count": 5,
   "metadata": {},
   "outputs": [
    {
     "name": "stdout",
     "output_type": "stream",
     "text": [
      "  1   3   6   8  14  16  18 \n",
      "  1   2   3   4   5   6   7 \n",
      "  1   2   8   4   9   6   6 \n"
     ]
    }
   ],
   "source": [
    "import array\n",
    "def printMatrix(matrix):\n",
    "    for r in range(len(matrix)):\n",
    "        for c in range(len(matrix[r])):\n",
    "            print(\"%3d\" % (matrix[r][c]), end=' ') \n",
    "        print() \n",
    "one =  [ [1, 3, 6, 8,14,16,18], [1, 2, 3, 4, 5, 6, 7], [1, 2, 8, 4, 9, 6, 6] ]\n",
    "\n",
    "two =  [ [2, 3, 6, 8,14,16,18], [3, 2, 3, 4, 5, 6, 7], [4, 2, 8, 4, 9, 6, 6] ]\n",
    "printMatrix(one)\n",
    "printMatrix(two)"
   ]
  },
  {
   "cell_type": "code",
   "execution_count": null,
   "metadata": {},
   "outputs": [],
   "source": []
  }
 ],
 "metadata": {
  "kernelspec": {
   "display_name": "Python 3",
   "language": "python",
   "name": "python3"
  },
  "language_info": {
   "codemirror_mode": {
    "name": "ipython",
    "version": 3
   },
   "file_extension": ".py",
   "mimetype": "text/x-python",
   "name": "python",
   "nbconvert_exporter": "python",
   "pygments_lexer": "ipython3",
   "version": "3.7.3"
  }
 },
 "nbformat": 4,
 "nbformat_minor": 2
}
