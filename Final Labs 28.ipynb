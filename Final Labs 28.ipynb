{
 "cells": [
  {
   "cell_type": "code",
   "execution_count": 1,
   "metadata": {},
   "outputs": [
    {
     "name": "stdout",
     "output_type": "stream",
     "text": [
      "8.0\n",
      "5.111111111111111\n"
     ]
    }
   ],
   "source": [
    "import array\n",
    "def avg(array):\n",
    "    sum = 0\n",
    "    for i in range(0,len(array)):\n",
    "            sum = sum + array[i]\n",
    "    avgs = sum/ len(array)\n",
    "    print(str(avgs))\n",
    "one = [12,3,6,8,14,12,1]\n",
    "two = [1,2,8,4,9,6,6,8,2]\n",
    "avg(one)\n",
    "avg(two)"
   ]
  },
  {
   "cell_type": "code",
   "execution_count": null,
   "metadata": {},
   "outputs": [],
   "source": []
  }
 ],
 "metadata": {
  "kernelspec": {
   "display_name": "Python 3",
   "language": "python",
   "name": "python3"
  },
  "language_info": {
   "codemirror_mode": {
    "name": "ipython",
    "version": 3
   },
   "file_extension": ".py",
   "mimetype": "text/x-python",
   "name": "python",
   "nbconvert_exporter": "python",
   "pygments_lexer": "ipython3",
   "version": "3.7.3"
  }
 },
 "nbformat": 4,
 "nbformat_minor": 2
}
