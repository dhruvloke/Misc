{
 "cells": [
  {
   "cell_type": "code",
   "execution_count": 3,
   "metadata": {},
   "outputs": [
    {
     "name": "stdout",
     "output_type": "stream",
     "text": [
      "The array is not strictly increasing\n",
      "The array is strictly increasing\n"
     ]
    }
   ],
   "source": [
    "import array\n",
    "def isStrictlyIncreasing(array):\n",
    "    isInc = True\n",
    "    for i in range(0, len(array) -1):\n",
    "        if(isInc == True):\n",
    "            if(array[i] > array[i+1]):\n",
    "                isInc = False\n",
    "    if(isInc == True):\n",
    "        print(\"The array is strictly increasing\")\n",
    "    else:\n",
    "        print(\"The array is not strictly increasing\")\n",
    "one = [1,7,6,8,14,16,18]\n",
    "two = [1,2,6,6,8,10]\n",
    "isStrictlyIncreasing(one)\n",
    "isStrictlyIncreasing(two)"
   ]
  },
  {
   "cell_type": "code",
   "execution_count": null,
   "metadata": {},
   "outputs": [],
   "source": []
  }
 ],
 "metadata": {
  "kernelspec": {
   "display_name": "Python 3",
   "language": "python",
   "name": "python3"
  },
  "language_info": {
   "codemirror_mode": {
    "name": "ipython",
    "version": 3
   },
   "file_extension": ".py",
   "mimetype": "text/x-python",
   "name": "python",
   "nbconvert_exporter": "python",
   "pygments_lexer": "ipython3",
   "version": "3.7.3"
  }
 },
 "nbformat": 4,
 "nbformat_minor": 2
}
