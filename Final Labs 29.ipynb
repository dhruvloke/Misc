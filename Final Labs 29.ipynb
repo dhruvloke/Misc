{
 "cells": [
  {
   "cell_type": "code",
   "execution_count": 39,
   "metadata": {},
   "outputs": [
    {
     "name": "stdout",
     "output_type": "stream",
     "text": [
      "16\n",
      "9\n"
     ]
    }
   ],
   "source": [
    "import array\n",
    "def findBaseTenNumber(array):\n",
    "    totVal = 0\n",
    "    skipVal = False\n",
    "    rnd = False\n",
    "    for i in range(0,len(array)):\n",
    "        rnd = False\n",
    "        tempVal = 0\n",
    "        tempVal2 = 0\n",
    "        if(array[i] == 'X'):\n",
    "            tempVal = 10\n",
    "        elif(array[i] == 'V'):\n",
    "            tempVal = 5\n",
    "        elif(array[i ] == 'I'):\n",
    "            tempVal = 1\n",
    "        if(i < len(array) -1):\n",
    "            if(array[i + 1] == 'X'):\n",
    "                tempVal2 = 10\n",
    "            elif(array[i + 1] == 'V'):\n",
    "                tempVal2 = 5\n",
    "            elif(array[i + 1] == 'I'):\n",
    "                tempVal2 = 1\n",
    "        if((tempVal < tempVal2) and skipVal == False):\n",
    "            #print(tempVal2)\n",
    "            totVal += tempVal2 - tempVal\n",
    "            skipVal = True\n",
    "            rnd = True\n",
    "        elif(skipVal == False):\n",
    "            totVal += tempVal\n",
    "            skipVal = False\n",
    "        if(rnd == False):\n",
    "            skipVal = False\n",
    "    print(totVal)\n",
    "one = ['X', 'V', 'I']\n",
    "two = ['I', 'X']\n",
    "findBaseTenNumber(one)\n",
    "findBaseTenNumber(two)"
   ]
  },
  {
   "cell_type": "code",
   "execution_count": null,
   "metadata": {},
   "outputs": [],
   "source": []
  }
 ],
 "metadata": {
  "kernelspec": {
   "display_name": "Python 3",
   "language": "python",
   "name": "python3"
  },
  "language_info": {
   "codemirror_mode": {
    "name": "ipython",
    "version": 3
   },
   "file_extension": ".py",
   "mimetype": "text/x-python",
   "name": "python",
   "nbconvert_exporter": "python",
   "pygments_lexer": "ipython3",
   "version": "3.7.3"
  }
 },
 "nbformat": 4,
 "nbformat_minor": 2
}
