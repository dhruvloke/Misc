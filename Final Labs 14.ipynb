{
 "cells": [
  {
   "cell_type": "code",
   "execution_count": 2,
   "metadata": {},
   "outputs": [
    {
     "name": "stdout",
     "output_type": "stream",
     "text": [
      "Enter a number 12\n",
      "Enter another number 8\n",
      "The greatest common factor of 12 and 8 is 4\n",
      "Enter a number 0\n",
      "Enter another number 0\n",
      "The greatest common factor of 0 and 0 is 0\n"
     ]
    }
   ],
   "source": [
    "import array\n",
    "def gcf(num1,num2):\n",
    "    arrFact = []\n",
    "    arrFact2 = []\n",
    "    for i in range(1,num1 + 1):\n",
    "        if(num1 % i == 0):\n",
    "            arrFact.append(i)\n",
    "    for i in range(1,num2 + 1):\n",
    "        if(num2 % i == 0):\n",
    "            arrFact2.append(i)\n",
    "    gcf = 0\n",
    "    for i in range(0,len(arrFact)):\n",
    "        for j in range(0,len(arrFact2)):\n",
    "            if(arrFact[i] == arrFact2[j]):\n",
    "                if(arrFact[i] > gcf):\n",
    "                    gcf = arrFact[i]\n",
    "    print(\"The greatest common factor of \" + str(num1) + \" and \" + str(num2) + \" is \" + str(gcf))\n",
    "num1 = -1\n",
    "num2 = -1\n",
    "while(num1 != 0 or num2 != 0):\n",
    "    num1 = int(input(\"Enter a number \"))\n",
    "    num2 = int(input(\"Enter another number \"))\n",
    "    gcf(num1,num2)\n",
    "    "
   ]
  },
  {
   "cell_type": "code",
   "execution_count": null,
   "metadata": {},
   "outputs": [],
   "source": []
  }
 ],
 "metadata": {
  "kernelspec": {
   "display_name": "Python 3",
   "language": "python",
   "name": "python3"
  },
  "language_info": {
   "codemirror_mode": {
    "name": "ipython",
    "version": 3
   },
   "file_extension": ".py",
   "mimetype": "text/x-python",
   "name": "python",
   "nbconvert_exporter": "python",
   "pygments_lexer": "ipython3",
   "version": "3.7.3"
  }
 },
 "nbformat": 4,
 "nbformat_minor": 2
}
