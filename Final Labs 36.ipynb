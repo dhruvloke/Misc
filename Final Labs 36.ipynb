{
 "cells": [
  {
   "cell_type": "code",
   "execution_count": 9,
   "metadata": {},
   "outputs": [
    {
     "name": "stdout",
     "output_type": "stream",
     "text": [
      "Alice\n",
      "\n",
      "Wonder\n",
      "\n",
      "13\n",
      "\n",
      "8\n",
      "\n",
      "Bo\n",
      "\n",
      "Peep\n",
      "\n",
      "14\n",
      "\n",
      "10\n",
      "\n",
      "Ana\n",
      "\n",
      "Mo\n",
      "\n",
      "13\n",
      "\n",
      "8\n"
     ]
    }
   ],
   "source": [
    "class Person:\n",
    "    def __init__(self,firstName, lastName, age, gradeLevel):\n",
    "        self.firstName = firstName\n",
    "        self.lastName = lastName\n",
    "        self.age = age\n",
    "        self.gradeLevel = gradeLevel\n",
    "    def getFirstNameLastName():\n",
    "        return firstName + \" \" + lastName\n",
    "    def getAge():\n",
    "        return age\n",
    "    def getGradeLevel():\n",
    "        return gradeLevel\n",
    "f=open(\"Persons\", \"r\")\n",
    "persons = []\n",
    "for i in range(0,3):\n",
    "    firstName = f.readline()\n",
    "    lastName = f.readline()\n",
    "    age = f.readline()\n",
    "    gradeLevel = f.readline()\n",
    "    f.readline()\n",
    "    person = Person(firstName, lastName, age, gradeLevel)\n",
    "    persons.append(person)\n",
    "def printPersons(array):\n",
    "    for i in range(0,len(array)):\n",
    "        print(array[i].firstName)\n",
    "        print(array[i].lastName)\n",
    "        print(array[i].age)\n",
    "        print(array[i].gradeLevel)\n",
    "printPersons(persons)"
   ]
  },
  {
   "cell_type": "code",
   "execution_count": null,
   "metadata": {},
   "outputs": [],
   "source": []
  }
 ],
 "metadata": {
  "kernelspec": {
   "display_name": "Python 3",
   "language": "python",
   "name": "python3"
  },
  "language_info": {
   "codemirror_mode": {
    "name": "ipython",
    "version": 3
   },
   "file_extension": ".py",
   "mimetype": "text/x-python",
   "name": "python",
   "nbconvert_exporter": "python",
   "pygments_lexer": "ipython3",
   "version": "3.7.3"
  }
 },
 "nbformat": 4,
 "nbformat_minor": 2
}
