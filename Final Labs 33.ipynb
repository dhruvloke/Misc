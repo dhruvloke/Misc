{
 "cells": [
  {
   "cell_type": "code",
   "execution_count": 4,
   "metadata": {},
   "outputs": [
    {
     "name": "stdout",
     "output_type": "stream",
     "text": [
      "Enter a first and last name Dhruv Loke'\n",
      "Enter a first and last name Frank Wei\n",
      "Enter a first and last name Michael Zheng\n",
      "Enter a first and last name \n",
      "Dhruv Loke'\n",
      "Frank Wei\n",
      "Michael Zheng\n",
      "\n"
     ]
    }
   ],
   "source": [
    "def printNames(names):\n",
    "    for i in range(0,len(names)):\n",
    "        print(names[i])\n",
    "names = []\n",
    "inp = \" \"\n",
    "while(inp != \"\"):\n",
    "    inp = input(\"Enter a first and last name \")\n",
    "    names.append(inp)\n",
    "printNames(names)"
   ]
  },
  {
   "cell_type": "code",
   "execution_count": null,
   "metadata": {},
   "outputs": [],
   "source": []
  },
  {
   "cell_type": "code",
   "execution_count": null,
   "metadata": {},
   "outputs": [],
   "source": []
  }
 ],
 "metadata": {
  "kernelspec": {
   "display_name": "Python 3",
   "language": "python",
   "name": "python3"
  },
  "language_info": {
   "codemirror_mode": {
    "name": "ipython",
    "version": 3
   },
   "file_extension": ".py",
   "mimetype": "text/x-python",
   "name": "python",
   "nbconvert_exporter": "python",
   "pygments_lexer": "ipython3",
   "version": "3.7.3"
  }
 },
 "nbformat": 4,
 "nbformat_minor": 2
}
