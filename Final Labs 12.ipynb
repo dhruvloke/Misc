{
 "cells": [
  {
   "cell_type": "code",
   "execution_count": null,
   "metadata": {},
   "outputs": [],
   "source": [
    "import array\n",
    "num = int(input(\"Enter a number \"))\n",
    "arrFact = []\n",
    "for i in range(1,num + 1):\n",
    "    if(num % i == 0):\n",
    "        arrFact.append(i)\n",
    "strFact = \"\".join((str(e) + \",\")for e in arrFact)\n",
    "strFact = strFact[:-1]\n",
    "print(\"The factors of \" + str(num) + \" are \" + strFact)     \n",
    "print(\"There are \" + str(len(arrFact)) + \" factors\")"
   ]
  }
 ],
 "metadata": {
  "kernelspec": {
   "display_name": "Python 3",
   "language": "python",
   "name": "python3"
  },
  "language_info": {
   "codemirror_mode": {
    "name": "ipython",
    "version": 3
   },
   "file_extension": ".py",
   "mimetype": "text/x-python",
   "name": "python",
   "nbconvert_exporter": "python",
   "pygments_lexer": "ipython3",
   "version": "3.7.3"
  }
 },
 "nbformat": 4,
 "nbformat_minor": 2
}
