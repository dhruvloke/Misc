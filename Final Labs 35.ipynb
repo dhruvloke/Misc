{
 "cells": [
  {
   "cell_type": "code",
   "execution_count": 3,
   "metadata": {},
   "outputs": [
    {
     "name": "stdout",
     "output_type": "stream",
     "text": [
      "Enter a first name dhruv\n",
      "Enter a last name loke\n",
      "Enter an age 111\n",
      "Enter a gradelevel 11\n",
      "\n",
      "Enter a first name \n",
      "\n",
      "dhruv\n",
      "loke\n",
      "111\n",
      "11\n",
      "\n"
     ]
    }
   ],
   "source": [
    "class Person:\n",
    "    def __init__(self, firstName, lastName, age, gradeLevel):\n",
    "        self.firstName = firstName\n",
    "        self.lastName = lastName\n",
    "        self.age = age\n",
    "        self.gradeLevel = gradeLevel\n",
    "    def getFirstNameLastName():\n",
    "        return firstName + \" \" + lastName\n",
    "    def getAge(self):\n",
    "        return self.age\n",
    "    def getGradeLevel():\n",
    "        return gradeLevel\n",
    "persons = []\n",
    "finished = False\n",
    "while(finished == False):\n",
    "    firstName = input(\"Enter a first name \")\n",
    "    if(firstName == \"\"):\n",
    "        finished = True\n",
    "    else:\n",
    "        lastName = input(\"Enter a last name \")\n",
    "        age = int(input(\"Enter an age \"))\n",
    "        gradeLevel = int(input(\"Enter a gradelevel \"))\n",
    "        person = Person(firstName, lastName, age, gradeLevel)\n",
    "        persons.append(person)\n",
    "    print()\n",
    "def printPersons(array):\n",
    "    for i in range(0,len(array)):\n",
    "        print(array[i].firstName)\n",
    "        print(array[i].lastName)\n",
    "        print(array[i].getAge())\n",
    "        print(array[i].gradeLevel)\n",
    "        print()\n",
    "printPersons(persons)"
   ]
  },
  {
   "cell_type": "code",
   "execution_count": null,
   "metadata": {},
   "outputs": [],
   "source": []
  }
 ],
 "metadata": {
  "kernelspec": {
   "display_name": "Python 3",
   "language": "python",
   "name": "python3"
  },
  "language_info": {
   "codemirror_mode": {
    "name": "ipython",
    "version": 3
   },
   "file_extension": ".py",
   "mimetype": "text/x-python",
   "name": "python",
   "nbconvert_exporter": "python",
   "pygments_lexer": "ipython3",
   "version": "3.7.3"
  }
 },
 "nbformat": 4,
 "nbformat_minor": 2
}
