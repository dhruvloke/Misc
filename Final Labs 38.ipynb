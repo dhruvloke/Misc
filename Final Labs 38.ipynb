{
 "cells": [
  {
   "cell_type": "code",
   "execution_count": 14,
   "metadata": {},
   "outputs": [
    {
     "name": "stdout",
     "output_type": "stream",
     "text": [
      "  1   3   6   8  14  16  18 \n",
      "  1   2   3   4   5   6   7 \n",
      "  1   2   8   4   9   6   6 \n"
     ]
    }
   ],
   "source": [
    "import array\n",
    "def printRow(array):\n",
    "    for i in range(0, len(array)):\n",
    "        print(\"%3d\" % (array[i]), end=' ')\n",
    "    print()\n",
    "\n",
    "one =  [ [1, 3, 6, 8,14,16,18], [1, 2, 3, 4, 5, 6, 7], [1, 2, 8, 4, 9, 6, 6] ]\n",
    "two =  [ [2, 3, 6, 8,14,16,18], [3, 2, 3, 4, 5, 6, 7], [4, 2, 8, 4, 9, 6, 6] ]\n",
    "for c in range(0, len(one)):\n",
    "    printRow(one[c])\n",
    "#printMatrix(two)"
   ]
  },
  {
   "cell_type": "code",
   "execution_count": null,
   "metadata": {},
   "outputs": [],
   "source": []
  }
 ],
 "metadata": {
  "kernelspec": {
   "display_name": "Python 3",
   "language": "python",
   "name": "python3"
  },
  "language_info": {
   "codemirror_mode": {
    "name": "ipython",
    "version": 3
   },
   "file_extension": ".py",
   "mimetype": "text/x-python",
   "name": "python",
   "nbconvert_exporter": "python",
   "pygments_lexer": "ipython3",
   "version": "3.7.3"
  }
 },
 "nbformat": 4,
 "nbformat_minor": 2
}
